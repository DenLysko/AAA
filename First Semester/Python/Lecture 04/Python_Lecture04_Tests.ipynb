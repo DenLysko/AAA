{
 "cells": [
  {
   "cell_type": "code",
   "execution_count": 1,
   "metadata": {},
   "outputs": [],
   "source": [
    "class Solution:\n",
    "    def f1(arr1, arr2):\n",
    "        arr1.extend(arr2)\n",
    "        return arr1"
   ]
  },
  {
   "cell_type": "code",
   "execution_count": 2,
   "metadata": {},
   "outputs": [],
   "source": [
    "class Solution:\n",
    "    def f2(arr1, arr2):\n",
    "        arr1 = arr1 + arr2\n",
    "        return arr1"
   ]
  },
  {
   "cell_type": "code",
   "execution_count": 1,
   "metadata": {},
   "outputs": [],
   "source": [
    "def sup_function(slice: []) -> None:\n",
    "    for el in slice:\n",
    "        if el % 3 == 0 and el % 5 == 0:\n",
    "            print(\"fizzbuzz\")\n",
    "        elif el % 3 == 0:\n",
    "            print(\"fizz\")\n",
    "        elif el % 5 == 0:\n",
    "            print(\"buzz\")\n",
    "        else:\n",
    "            print(el)"
   ]
  },
  {
   "cell_type": "code",
   "execution_count": 6,
   "metadata": {},
   "outputs": [],
   "source": [
    "def custom_fizz_buzz(slice: list = None, start: int = None, end: int = None) -> None:\n",
    "    if (slice is not None) and (start is not None or end is not None):\n",
    "        raise WindowsError\n",
    "    elif slice is not None:\n",
    "        sup_function(slice)\n",
    "    else:\n",
    "        sup_function(range(start, end))"
   ]
  },
  {
   "cell_type": "code",
   "execution_count": 7,
   "metadata": {},
   "outputs": [
    {
     "name": "stdout",
     "output_type": "stream",
     "text": [
      "1\n",
      "2\n",
      "fizz\n",
      "4\n",
      "buzz\n",
      "1\n",
      "2\n",
      "fizz\n",
      "4\n",
      "buzz\n",
      "fizz\n",
      "7\n",
      "8\n",
      "fizz\n"
     ]
    },
    {
     "ename": "OSError",
     "evalue": "",
     "output_type": "error",
     "traceback": [
      "\u001b[1;31m---------------------------------------------------------------------------\u001b[0m",
      "\u001b[1;31mOSError\u001b[0m                                   Traceback (most recent call last)",
      "\u001b[1;32mc:\\My repositories\\AAA\\First Semester\\Python\\Lecture 04\\Python_Lecture04_Tests.ipynb Cell 5\u001b[0m line \u001b[0;36m5\n\u001b[0;32m      <a href='vscode-notebook-cell:/c%3A/My%20repositories/AAA/First%20Semester/Python/Lecture%2004/Python_Lecture04_Tests.ipynb#W4sZmlsZQ%3D%3D?line=1'>2</a>\u001b[0m custom_fizz_buzz(start\u001b[39m=\u001b[39m\u001b[39m1\u001b[39m, end\u001b[39m=\u001b[39m\u001b[39m10\u001b[39m)\n\u001b[0;32m      <a href='vscode-notebook-cell:/c%3A/My%20repositories/AAA/First%20Semester/Python/Lecture%2004/Python_Lecture04_Tests.ipynb#W4sZmlsZQ%3D%3D?line=3'>4</a>\u001b[0m \u001b[39m# Error\u001b[39;00m\n\u001b[1;32m----> <a href='vscode-notebook-cell:/c%3A/My%20repositories/AAA/First%20Semester/Python/Lecture%2004/Python_Lecture04_Tests.ipynb#W4sZmlsZQ%3D%3D?line=4'>5</a>\u001b[0m custom_fizz_buzz(\u001b[39mslice\u001b[39;49m\u001b[39m=\u001b[39;49m[\u001b[39m1\u001b[39;49m,\u001b[39m2\u001b[39;49m,\u001b[39m3\u001b[39;49m,\u001b[39m4\u001b[39;49m,\u001b[39m5\u001b[39;49m], start\u001b[39m=\u001b[39;49m\u001b[39m1\u001b[39;49m, end\u001b[39m=\u001b[39;49m\u001b[39m10\u001b[39;49m)\n",
      "\u001b[1;32mc:\\My repositories\\AAA\\First Semester\\Python\\Lecture 04\\Python_Lecture04_Tests.ipynb Cell 5\u001b[0m line \u001b[0;36m3\n\u001b[0;32m      <a href='vscode-notebook-cell:/c%3A/My%20repositories/AAA/First%20Semester/Python/Lecture%2004/Python_Lecture04_Tests.ipynb#W4sZmlsZQ%3D%3D?line=0'>1</a>\u001b[0m \u001b[39mdef\u001b[39;00m \u001b[39mcustom_fizz_buzz\u001b[39m(\u001b[39mslice\u001b[39m: \u001b[39mlist\u001b[39m \u001b[39m=\u001b[39m \u001b[39mNone\u001b[39;00m, start: \u001b[39mint\u001b[39m \u001b[39m=\u001b[39m \u001b[39mNone\u001b[39;00m, end: \u001b[39mint\u001b[39m \u001b[39m=\u001b[39m \u001b[39mNone\u001b[39;00m) \u001b[39m-\u001b[39m\u001b[39m>\u001b[39m \u001b[39mNone\u001b[39;00m:\n\u001b[0;32m      <a href='vscode-notebook-cell:/c%3A/My%20repositories/AAA/First%20Semester/Python/Lecture%2004/Python_Lecture04_Tests.ipynb#W4sZmlsZQ%3D%3D?line=1'>2</a>\u001b[0m     \u001b[39mif\u001b[39;00m (\u001b[39mslice\u001b[39m \u001b[39mis\u001b[39;00m \u001b[39mnot\u001b[39;00m \u001b[39mNone\u001b[39;00m) \u001b[39mand\u001b[39;00m (start \u001b[39mis\u001b[39;00m \u001b[39mnot\u001b[39;00m \u001b[39mNone\u001b[39;00m \u001b[39mor\u001b[39;00m end \u001b[39mis\u001b[39;00m \u001b[39mnot\u001b[39;00m \u001b[39mNone\u001b[39;00m):\n\u001b[1;32m----> <a href='vscode-notebook-cell:/c%3A/My%20repositories/AAA/First%20Semester/Python/Lecture%2004/Python_Lecture04_Tests.ipynb#W4sZmlsZQ%3D%3D?line=2'>3</a>\u001b[0m         \u001b[39mraise\u001b[39;00m \u001b[39mWindowsError\u001b[39;00m\n\u001b[0;32m      <a href='vscode-notebook-cell:/c%3A/My%20repositories/AAA/First%20Semester/Python/Lecture%2004/Python_Lecture04_Tests.ipynb#W4sZmlsZQ%3D%3D?line=3'>4</a>\u001b[0m     \u001b[39melif\u001b[39;00m \u001b[39mslice\u001b[39m \u001b[39mis\u001b[39;00m \u001b[39mnot\u001b[39;00m \u001b[39mNone\u001b[39;00m:\n\u001b[0;32m      <a href='vscode-notebook-cell:/c%3A/My%20repositories/AAA/First%20Semester/Python/Lecture%2004/Python_Lecture04_Tests.ipynb#W4sZmlsZQ%3D%3D?line=4'>5</a>\u001b[0m         sup_function(\u001b[39mslice\u001b[39m)\n",
      "\u001b[1;31mOSError\u001b[0m: "
     ]
    }
   ],
   "source": [
    "custom_fizz_buzz(slice=[1, 2, 3, 4, 5])\n",
    "custom_fizz_buzz(start=1, end=10)\n",
    "\n",
    "# Error\n",
    "custom_fizz_buzz(slice=[1, 2, 3, 4, 5], start=1, end=10)"
   ]
  }
 ],
 "metadata": {
  "kernelspec": {
   "display_name": "Python 3",
   "language": "python",
   "name": "python3"
  },
  "language_info": {
   "codemirror_mode": {
    "name": "ipython",
    "version": 3
   },
   "file_extension": ".py",
   "mimetype": "text/x-python",
   "name": "python",
   "nbconvert_exporter": "python",
   "pygments_lexer": "ipython3",
   "version": "3.11.4"
  },
  "orig_nbformat": 4
 },
 "nbformat": 4,
 "nbformat_minor": 2
}
