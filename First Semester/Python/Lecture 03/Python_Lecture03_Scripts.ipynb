{
 "cells": [
  {
   "cell_type": "code",
   "execution_count": 48,
   "metadata": {},
   "outputs": [
    {
     "name": "stdout",
     "output_type": "stream",
     "text": [
      "3\n",
      "4\n",
      "5\n"
     ]
    }
   ],
   "source": [
    "a = [0, 1, 2, 3, 4, 5]\n",
    "b = [3, 4, 5]\n",
    "for i in range(len(a)):\n",
    "    if b.__contains__(a[i]):\n",
    "        print(a[i])"
   ]
  },
  {
   "cell_type": "code",
   "execution_count": 49,
   "metadata": {},
   "outputs": [
    {
     "name": "stdout",
     "output_type": "stream",
     "text": [
      "3\n",
      "4\n",
      "5\n"
     ]
    }
   ],
   "source": [
    "a = [0, 1, 2, 3, 4, 5]\n",
    "b = [3, 4, 5]\n",
    "c = list(set(a) & set(b))\n",
    "\n",
    "for i in c:\n",
    "    print(i)"
   ]
  },
  {
   "cell_type": "code",
   "execution_count": 50,
   "metadata": {},
   "outputs": [
    {
     "data": {
      "text/plain": [
       "[0, 1, 2]"
      ]
     },
     "execution_count": 50,
     "metadata": {},
     "output_type": "execute_result"
    }
   ],
   "source": [
    "# set оставляет порядок как оказывается))\n",
    "a = [0, 0, 1, 1, 2, 2]\n",
    "list(set(a))"
   ]
  },
  {
   "cell_type": "code",
   "execution_count": 51,
   "metadata": {},
   "outputs": [
    {
     "name": "stdout",
     "output_type": "stream",
     "text": [
      "[0, 1, 2]\n"
     ]
    }
   ],
   "source": [
    "a = [0, 0, 1, 1, 2, 2]\n",
    "b = []\n",
    "for el in a:\n",
    "    if el not in b:\n",
    "        b.append(el)\n",
    "print(b)"
   ]
  },
  {
   "cell_type": "code",
   "execution_count": 52,
   "metadata": {},
   "outputs": [
    {
     "name": "stdout",
     "output_type": "stream",
     "text": [
      "[0, 12, 2, 4]\n",
      "0 12 2 4\n"
     ]
    }
   ],
   "source": [
    "a = [0, 12, 2, 3, 4, 5]\n",
    "print([el for el in a if el % 2 == 0])\n",
    "# Суть звездочки, что она выводит не массив, а элементы в нем выводятся через пробел\n",
    "print(*[el for el in a if el % 2 == 0])"
   ]
  },
  {
   "cell_type": "code",
   "execution_count": 53,
   "metadata": {},
   "outputs": [
    {
     "name": "stdout",
     "output_type": "stream",
     "text": [
      "{0: 'foo', 1: 'bar', 2: 'baz'}\n"
     ]
    }
   ],
   "source": [
    "a = [\"foo\", \"bar\", \"baz\"]\n",
    "b = {}\n",
    "for i, el in enumerate(a):\n",
    "    b[i] = el\n",
    "print(b)"
   ]
  },
  {
   "cell_type": "code",
   "execution_count": 54,
   "metadata": {},
   "outputs": [
    {
     "name": "stdout",
     "output_type": "stream",
     "text": [
      "{0: 'foo', 1: 'bar', 2: 'baz'}\n"
     ]
    }
   ],
   "source": [
    "a = [\"foo\", \"bar\", \"baz\"]\n",
    "print(dict(zip(range(4), a)))"
   ]
  },
  {
   "cell_type": "code",
   "execution_count": 55,
   "metadata": {},
   "outputs": [
    {
     "name": "stdout",
     "output_type": "stream",
     "text": [
      "Hi, John\n",
      " Hi, Allison\n",
      " Hi, Brian\n",
      " Hi, Claire\n",
      " Hi, Andrew\n",
      "\n"
     ]
    }
   ],
   "source": [
    "# В питоне там тоже есть прикол как со StringBuilder'ом\n",
    "# Там создаются лишние объекты при конкатинации строк\n",
    "a = [\"John\", \"Allison\", \"Brian\", \"Claire\", \"Andrew\"]\n",
    "print(*[f\"Hi, {string}\\n\" for string in a])"
   ]
  },
  {
   "cell_type": "code",
   "execution_count": 56,
   "metadata": {},
   "outputs": [
    {
     "name": "stdout",
     "output_type": "stream",
     "text": [
      "foo, egg Отсутствуют\n"
     ]
    }
   ],
   "source": [
    "a = [\"foo\", \"bar\", \"baz\", \"egg\"]\n",
    "b = [\"bar\", \"baz\"]\n",
    "c = list(set(a) - set(b))\n",
    "ans = \"\"\n",
    "for el in c:\n",
    "    ans += f\"{el}, \"\n",
    "ans = ans[:-2]\n",
    "ans += \" Отсутствуют\"\n",
    "print(ans)"
   ]
  },
  {
   "cell_type": "code",
   "execution_count": 57,
   "metadata": {},
   "outputs": [],
   "source": [
    "import numpy as np"
   ]
  },
  {
   "cell_type": "code",
   "execution_count": 58,
   "metadata": {},
   "outputs": [
    {
     "name": "stdout",
     "output_type": "stream",
     "text": [
      "[0, 1, 2, 3, 4, 6, 7, 9, 11, 5]\n"
     ]
    }
   ],
   "source": [
    "a = [0, 1, 2, 6, 7, 8]\n",
    "b = [3, 4, 9, 11, 5]\n",
    "c = []\n",
    "counter1 = 0\n",
    "counter2 = 0\n",
    "for i in range(len(a) + len(b)):\n",
    "    if a[counter1] < b[counter2]:\n",
    "        c.append(a[counter1])\n",
    "        counter1 += 1\n",
    "        if counter1 == len(a) - 1:\n",
    "            c.extend(b[counter2:])\n",
    "            break\n",
    "    else:\n",
    "        c.append(b[counter2])\n",
    "        counter2 += 1\n",
    "        if counter2 == len(b) - 1:\n",
    "            c.extend(a[counter1:])\n",
    "            break\n",
    "print(c)"
   ]
  },
  {
   "cell_type": "code",
   "execution_count": 73,
   "metadata": {},
   "outputs": [
    {
     "name": "stdout",
     "output_type": "stream",
     "text": [
      "{2: 'baz', 1: 'bar', 0: 'foo'}\n"
     ]
    }
   ],
   "source": [
    "a = {0: \"foo\", 1: \"bar\", 2: \"baz\"}\n",
    "print(dict(reversed(a.items())))"
   ]
  },
  {
   "cell_type": "code",
   "execution_count": 94,
   "metadata": {},
   "outputs": [
    {
     "name": "stdout",
     "output_type": "stream",
     "text": [
      "Направление: E, Скорость: 2\n",
      "Направление: W, Скорость: 2\n",
      "Направление: NW, Скорость: 2\n",
      "Направление: N, Скорость: 2\n",
      "Направление: NE, Скорость: 2\n",
      "Направление: N, Скорость: 2\n",
      "Направление: E, Скорость: 2\n",
      "Направление: SE, Скорость: 2\n",
      "Направление: S, Скорость: 2\n",
      "Направление: SW, Скорость: 2\n",
      "Направление: NW, Скорость: 2\n",
      "Направление: N, Скорость: 2\n",
      "Направление: NE, Скорость: 2\n",
      "Направление: NE, Скорость: 2\n",
      "Направление: NE, Скорость: 2\n",
      "Направление: NE, Скорость: 2\n",
      "Направление: SE, Скорость: 2\n",
      "Направление: W, Скорость: 2\n",
      "Направление: N, Скорость: 2\n",
      "Направление: N, Скорость: 2\n",
      "Направление: NE, Скорость: 2\n",
      "Направление: E, Скорость: 2\n",
      "Направление: NE, Скорость: 2\n",
      "Направление: NE, Скорость: 2\n"
     ]
    }
   ],
   "source": [
    "import requests\n",
    "\n",
    "response = requests.get(\n",
    "    \"https://www.7timer.info/bin/astro.php?lon=113.2&lat=23.1&ac=0&unit=metric&output=json&tzshift=0\"\n",
    ")\n",
    "a = list(response.json().values())\n",
    "for item in a[2]:\n",
    "    smallDic = item[\"wind10m\"]\n",
    "    print(f\"Направление: {smallDic['direction']}, Скорость: {smallDic['speed']}\")"
   ]
  }
 ],
 "metadata": {
  "kernelspec": {
   "display_name": "Python 3",
   "language": "python",
   "name": "python3"
  },
  "language_info": {
   "codemirror_mode": {
    "name": "ipython",
    "version": 3
   },
   "file_extension": ".py",
   "mimetype": "text/x-python",
   "name": "python",
   "nbconvert_exporter": "python",
   "pygments_lexer": "ipython3",
   "version": "3.11.4"
  },
  "orig_nbformat": 4
 },
 "nbformat": 4,
 "nbformat_minor": 2
}
